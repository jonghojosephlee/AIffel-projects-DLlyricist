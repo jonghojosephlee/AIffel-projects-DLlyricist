{
 "cells": [
  {
   "cell_type": "markdown",
   "id": "e85d1fa7",
   "metadata": {},
   "source": [
    "# 1. 준비"
   ]
  },
  {
   "cell_type": "code",
   "execution_count": 1,
   "id": "f7e9fbc2",
   "metadata": {},
   "outputs": [],
   "source": [
    "#glob 모듈의 glob 함수는 사용자가 제시한 조건에 맞는 파일명을 리스트 형식으로 반환한다\n",
    "import glob \n",
    "import tensorflow as tf\n",
    "import numpy as np\n",
    "import os\n",
    "import re \n",
    "from sklearn.model_selection import train_test_split"
   ]
  },
  {
   "cell_type": "markdown",
   "id": "a08bce48",
   "metadata": {},
   "source": [
    "# 2. 데이터 읽어오기"
   ]
  },
  {
   "cell_type": "code",
   "execution_count": 2,
   "id": "dcfc866d",
   "metadata": {},
   "outputs": [
    {
     "name": "stdout",
     "output_type": "stream",
     "text": [
      "데이터 크기: 187088\n",
      "Examples:\n",
      " ['', '', '[Spoken Intro:]']\n"
     ]
    }
   ],
   "source": [
    "txt_file_path = os.getenv('HOME')+'/aiffel/lyricist/data/lyrics/*'\n",
    "\n",
    "txt_list = glob.glob(txt_file_path) \n",
    "raw_corpus = [] \n",
    "\n",
    "for txt_file in txt_list:\n",
    "    with open(txt_file, \"r\") as f:\n",
    "        \n",
    "        raw = f.read().splitlines()\n",
    "        raw_corpus.extend(raw) \n",
    "\n",
    "print(\"데이터 크기:\", len(raw_corpus))\n",
    "print(\"Examples:\\n\", raw_corpus[:3])"
   ]
  },
  {
   "cell_type": "markdown",
   "id": "c78db532",
   "metadata": {},
   "source": [
    "# 3. 데이터 정제\n",
    "\n",
    "## preprocess_sentence 로 정제"
   ]
  },
  {
   "cell_type": "code",
   "execution_count": 3,
   "id": "6b0d4c59",
   "metadata": {},
   "outputs": [],
   "source": [
    "def preprocess_sentence(sentence):\n",
    "    sentence = sentence.lower().strip() # 1\n",
    "    sentence = re.sub(r\"([?.!,¿])\", r\" \\1 \", sentence) # 2\n",
    "    sentence = re.sub(r'[\" \"]+', \" \", sentence) # 3\n",
    "    sentence = re.sub(r\"[^a-zA-Z?.!,¿]+\", \" \", sentence) # 4\n",
    "    sentence = sentence.strip() # 5\n",
    "    sentence = '<start> ' + sentence + ' <end>' # 6\n",
    "    return sentence"
   ]
  },
  {
   "cell_type": "code",
   "execution_count": 4,
   "id": "43471589",
   "metadata": {
    "scrolled": true
   },
   "outputs": [
    {
     "data": {
      "text/plain": [
       "['<start> spoken intro <end>',\n",
       " '<start> you ever want something <end>',\n",
       " '<start> that you know you shouldn t have <end>',\n",
       " '<start> the more you know you shouldn t have it , <end>',\n",
       " '<start> the more you want it <end>',\n",
       " '<start> and then one day you get it , <end>',\n",
       " '<start> it s so good too <end>',\n",
       " '<start> but it s just like my girl <end>',\n",
       " '<start> when she s around me <end>',\n",
       " '<start> i just feel so good , so good <end>']"
      ]
     },
     "execution_count": 4,
     "metadata": {},
     "output_type": "execute_result"
    }
   ],
   "source": [
    "# 정제된 문장 모으는곳\n",
    "corpus = []\n",
    "\n",
    "for sentence in raw_corpus:\n",
    "    if len(sentence) == 0: continue\n",
    "    if sentence[-1] == \":\": continue\n",
    "    \n",
    "    preprocessed_sentence = preprocess_sentence(sentence)\n",
    "    corpus.append(preprocessed_sentence)\n",
    "        \n",
    "corpus[:10]"
   ]
  },
  {
   "cell_type": "code",
   "execution_count": null,
   "id": "b24daf9d",
   "metadata": {},
   "outputs": [],
   "source": []
  },
  {
   "cell_type": "markdown",
   "id": "c4406ece",
   "metadata": {},
   "source": [
    "# 4. 평가 데이터셋 분리\n",
    "\n",
    "### 훈련/평가 데이터 분리하기 \n",
    "\n",
    "1. tokenize => 데이터 tensor로 변환 후\n",
    "2. sklearn train_test_split에 분리 -> train and validation\n",
    "- 단어 크기 12,000 이상 / 20% 평가셋"
   ]
  },
  {
   "cell_type": "code",
   "execution_count": null,
   "id": "06d472b3",
   "metadata": {},
   "outputs": [],
   "source": []
  },
  {
   "cell_type": "code",
   "execution_count": 5,
   "id": "10303022",
   "metadata": {},
   "outputs": [
    {
     "name": "stdout",
     "output_type": "stream",
     "text": [
      "[[   2 2701 2584 ...    0    0    0]\n",
      " [   2    7  156 ...    0    0    0]\n",
      " [   2   17    7 ...    0    0    0]\n",
      " ...\n",
      " [   2  311    1 ...    0    0    0]\n",
      " [   2  735    5 ...    0    0    0]\n",
      " [   2  735    5 ...    0    0    0]] <keras_preprocessing.text.Tokenizer object at 0x7f7fe428bee0>\n"
     ]
    }
   ],
   "source": [
    "# tokenize -> data to tensor\n",
    "\n",
    "def tokenize(corpus):\n",
    "    tokenizer = tf.keras.preprocessing.text.Tokenizer(\n",
    "        num_words=12000, \n",
    "        filters=' ',\n",
    "        oov_token=\"<unk>\"\n",
    "    )\n",
    "    \n",
    "    tokenizer.fit_on_texts(corpus)\n",
    "\n",
    "    tensor = tokenizer.texts_to_sequences(corpus)   \n",
    "    \n",
    "    tensor = tf.keras.preprocessing.sequence.pad_sequences(tensor, padding='post',maxlen=20)  \n",
    "    \n",
    "    print(tensor,tokenizer)\n",
    "    return tensor, tokenizer\n",
    "\n",
    "tensor, tokenizer = tokenize(corpus)"
   ]
  },
  {
   "cell_type": "code",
   "execution_count": null,
   "id": "6f4214ac",
   "metadata": {},
   "outputs": [],
   "source": []
  },
  {
   "cell_type": "code",
   "execution_count": 6,
   "id": "3db97007",
   "metadata": {},
   "outputs": [
    {
     "name": "stdout",
     "output_type": "stream",
     "text": [
      "[   2 2701 2584    3    0    0    0    0    0    0    0    0    0    0\n",
      "    0    0    0    0    0]\n",
      "[2701 2584    3    0    0    0    0    0    0    0    0    0    0    0\n",
      "    0    0    0    0    0]\n"
     ]
    }
   ],
   "source": [
    "# 예제 추가정보 : pad\n",
    "src_input = tensor[:, :-1]  \n",
    "\n",
    "tgt_input = tensor[:, 1:]    \n",
    "\n",
    "print(src_input[0])\n",
    "print(tgt_input[0])"
   ]
  },
  {
   "cell_type": "code",
   "execution_count": 7,
   "id": "25c324ef",
   "metadata": {},
   "outputs": [
    {
     "data": {
      "text/plain": [
       "<BatchDataset shapes: ((256, 19), (256, 19)), types: (tf.int32, tf.int32)>"
      ]
     },
     "execution_count": 7,
     "metadata": {},
     "output_type": "execute_result"
    }
   ],
   "source": [
    "BUFFER_SIZE = len(src_input)\n",
    "BATCH_SIZE = 256\n",
    "steps_per_epoch = len(src_input) // BATCH_SIZE\n",
    "VOCAB_SIZE = tokenizer.num_words + 1   \n",
    "\n",
    "\n",
    "dataset = tf.data.Dataset.from_tensor_slices((src_input, tgt_input))\n",
    "dataset = dataset.shuffle(BUFFER_SIZE)\n",
    "dataset = dataset.batch(BATCH_SIZE, drop_remainder=True)\n",
    "dataset"
   ]
  },
  {
   "cell_type": "code",
   "execution_count": 8,
   "id": "89887de3",
   "metadata": {},
   "outputs": [],
   "source": [
    "# train / validation split\n",
    "\n",
    "enc_train, enc_val, dec_train, dec_val = train_test_split(\n",
    "    src_input, \n",
    "    tgt_input, \n",
    "    test_size =0.2, \n",
    "    shuffle = True, \n",
    "    random_state = 17)"
   ]
  },
  {
   "cell_type": "code",
   "execution_count": 9,
   "id": "ac4f05d6",
   "metadata": {},
   "outputs": [
    {
     "name": "stdout",
     "output_type": "stream",
     "text": [
      "(140599, 19)\n"
     ]
    }
   ],
   "source": [
    "print(enc_train.shape)"
   ]
  },
  {
   "cell_type": "code",
   "execution_count": 10,
   "id": "4cb639ad",
   "metadata": {
    "scrolled": true
   },
   "outputs": [
    {
     "name": "stdout",
     "output_type": "stream",
     "text": [
      "(140599, 19)\n"
     ]
    }
   ],
   "source": [
    "print(dec_train.shape)"
   ]
  },
  {
   "cell_type": "code",
   "execution_count": null,
   "id": "d093b9c3",
   "metadata": {},
   "outputs": [],
   "source": []
  },
  {
   "cell_type": "markdown",
   "id": "5bd62d00",
   "metadata": {},
   "source": [
    "# 5. 인공지능 만들기\n",
    "\n",
    "- Embedding Size / Hidden size 조절\n",
    "- Epoch : 10 안에 val_loss 2.2수준으로 하는 모델 설계\n",
    "\n",
    "- model.fit() 사용\n",
    "- epochs 사용\n",
    "\n",
    "- val_loss 더 떨어뜨리기위해 model.fit()안에 다른 인자도 사용\n",
    "\n"
   ]
  },
  {
   "cell_type": "code",
   "execution_count": 11,
   "id": "be24a0ac",
   "metadata": {},
   "outputs": [],
   "source": [
    "class TextGenerator(tf.keras.Model):\n",
    "    def __init__(self, vocab_size, embedding_size, hidden_size):\n",
    "        super().__init__()\n",
    "        self.embedding = tf.keras.layers.Embedding(vocab_size, embedding_size) \n",
    "        self.rnn_1 = tf.keras.layers.LSTM(hidden_size, return_sequences=True)  \n",
    "        self.rnn_2 = tf.keras.layers.LSTM(hidden_size, return_sequences=True)\n",
    "        self.linear = tf.keras.layers.Dense(vocab_size)\n",
    "        \n",
    "    def call(self, x):\n",
    "        out = self.embedding(x)\n",
    "        out = self.rnn_1(out)\n",
    "        out = self.rnn_2(out)\n",
    "        out = self.linear(out)\n",
    "        \n",
    "        return out\n",
    "\n",
    "# 워드 벡터의 차원수를 말하며 단어가 추상적으로 표현되는 크기\n",
    "embedding_size = 256 \n",
    "hidden_size = 1024\n",
    "model = TextGenerator(tokenizer.num_words + 1, embedding_size , hidden_size) "
   ]
  },
  {
   "cell_type": "code",
   "execution_count": 12,
   "id": "912b649d",
   "metadata": {},
   "outputs": [],
   "source": [
    "optimizer = tf.keras.optimizers.Adam() \n",
    "\n",
    "\n",
    "# Loss\n",
    "# 클래스 분류 문제에서 softmax 함수를 거치면 from_logits = False(default값),그렇지 않으면 from_logits = True.\n",
    "loss = tf.keras.losses.SparseCategoricalCrossentropy( \n",
    "    from_logits=True, \n",
    "    reduction='none' \n",
    ")"
   ]
  },
  {
   "cell_type": "code",
   "execution_count": 13,
   "id": "b219dcd7",
   "metadata": {},
   "outputs": [
    {
     "name": "stdout",
     "output_type": "stream",
     "text": [
      "Epoch 1/10\n",
      "686/686 [==============================] - 168s 236ms/step - loss: 2.8419\n",
      "Epoch 2/10\n",
      "686/686 [==============================] - 163s 237ms/step - loss: 2.4557\n",
      "Epoch 3/10\n",
      "686/686 [==============================] - 163s 237ms/step - loss: 2.3027\n",
      "Epoch 4/10\n",
      "686/686 [==============================] - 163s 237ms/step - loss: 2.1912\n",
      "Epoch 5/10\n",
      "686/686 [==============================] - 163s 237ms/step - loss: 2.0966\n",
      "Epoch 6/10\n",
      "686/686 [==============================] - 163s 237ms/step - loss: 2.0095\n",
      "Epoch 7/10\n",
      "686/686 [==============================] - 163s 237ms/step - loss: 1.9275\n",
      "Epoch 8/10\n",
      "686/686 [==============================] - 163s 238ms/step - loss: 1.8505\n",
      "Epoch 9/10\n",
      "686/686 [==============================] - 163s 238ms/step - loss: 1.7783\n",
      "Epoch 10/10\n",
      "686/686 [==============================] - 163s 238ms/step - loss: 1.7084\n"
     ]
    },
    {
     "data": {
      "text/plain": [
       "<keras.callbacks.History at 0x7f7f486c2c10>"
      ]
     },
     "execution_count": 13,
     "metadata": {},
     "output_type": "execute_result"
    }
   ],
   "source": [
    "# 모델을 학습시키키 위한 학습과정을 설정하는 단계\n",
    "# 손실함수와 훈련과정을 설정\n",
    "model.compile(loss=loss, optimizer=optimizer) \n",
    "\n",
    "\n",
    "model.fit(dataset, epochs=10) "
   ]
  },
  {
   "cell_type": "code",
   "execution_count": 17,
   "id": "08dffceb",
   "metadata": {},
   "outputs": [],
   "source": [
    "def generate_text(model, tokenizer, init_sentence=\"<start>\", max_len=20): \n",
    "\n",
    "    test_input = tokenizer.texts_to_sequences([init_sentence])\n",
    "    test_tensor = tf.convert_to_tensor(test_input, dtype=tf.int64)\n",
    "    end_token = tokenizer.word_index[\"<end>\"]\n",
    "\n",
    "\n",
    "    while True: \n",
    "        # 1\n",
    "        predict = model(test_tensor) \n",
    "        # 2\n",
    "        predict_word = tf.argmax(tf.nn.softmax(predict, axis=-1), axis=-1)[:, -1] \n",
    "        # 3 \n",
    "        test_tensor = tf.concat([test_tensor, tf.expand_dims(predict_word, axis=0)], axis=-1)\n",
    "        # 4 \n",
    "        if predict_word.numpy()[0] == end_token: break\n",
    "        if test_tensor.shape[1] >= max_len: break\n",
    "\n",
    "    generated = \"\"\n",
    "\n",
    "    for word_index in test_tensor[0].numpy():\n",
    "        generated += tokenizer.index_word[word_index] + \" \"\n",
    "\n",
    "    return generated "
   ]
  },
  {
   "cell_type": "code",
   "execution_count": null,
   "id": "06f4da16",
   "metadata": {},
   "outputs": [],
   "source": []
  },
  {
   "cell_type": "code",
   "execution_count": 19,
   "id": "78d2db2b",
   "metadata": {},
   "outputs": [
    {
     "data": {
      "text/plain": [
       "'<start> i love you so much , i love you <end> '"
      ]
     },
     "execution_count": 19,
     "metadata": {},
     "output_type": "execute_result"
    }
   ],
   "source": [
    "# 가사제출\n",
    "\n",
    "generate_text(model, tokenizer, init_sentence=\"<start> i love\", max_len=20)\n",
    "# generate_text 함수에 lyricist 라 정의한 모델을 이용해서 ilove 로 시작되는 문장을 생성"
   ]
  },
  {
   "cell_type": "code",
   "execution_count": null,
   "id": "ea9f135f",
   "metadata": {},
   "outputs": [],
   "source": []
  }
 ],
 "metadata": {
  "kernelspec": {
   "display_name": "Python 3 (ipykernel)",
   "language": "python",
   "name": "python3"
  },
  "language_info": {
   "codemirror_mode": {
    "name": "ipython",
    "version": 3
   },
   "file_extension": ".py",
   "mimetype": "text/x-python",
   "name": "python",
   "nbconvert_exporter": "python",
   "pygments_lexer": "ipython3",
   "version": "3.9.7"
  }
 },
 "nbformat": 4,
 "nbformat_minor": 5
}
